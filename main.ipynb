{
 "cells": [
  {
   "cell_type": "code",
   "execution_count": 1,
   "metadata": {
    "colab": {
     "base_uri": "https://localhost:8080/",
     "height": 1000
    },
    "executionInfo": {
     "elapsed": 50827,
     "status": "ok",
     "timestamp": 1647923059704,
     "user": {
      "displayName": "Honghao Zhang",
      "photoUrl": "https://lh3.googleusercontent.com/a/default-user=s64",
      "userId": "02252697543396033058"
     },
     "user_tz": -660
    },
    "id": "I_rIBC6q8pGg",
    "outputId": "cad7e77e-8748-406b-f3f7-68fe7a8f8707",
    "scrolled": true,
    "tags": []
   },
   "outputs": [
    {
     "name": "stdout",
     "output_type": "stream",
     "text": [
      "Collecting git+https://github.com/DeepLabCut/DeepLabCut.git\n",
      "  Cloning https://github.com/DeepLabCut/DeepLabCut.git to /tmp/pip-req-build-sl3ppi41\n",
      "  Running command git clone -q https://github.com/DeepLabCut/DeepLabCut.git /tmp/pip-req-build-sl3ppi41\n",
      "Requirement already satisfied: ipython in /usr/local/lib/python3.7/dist-packages (from deeplabcut==2.2.0.6) (5.5.0)\n",
      "Collecting filterpy>=1.4.4\n",
      "  Downloading filterpy-1.4.5.zip (177 kB)\n",
      "\u001b[K     |████████████████████████████████| 177 kB 5.1 MB/s \n",
      "\u001b[?25hCollecting ruamel.yaml>=0.15.0\n",
      "  Downloading ruamel.yaml-0.17.21-py3-none-any.whl (109 kB)\n",
      "\u001b[K     |████████████████████████████████| 109 kB 50.9 MB/s \n",
      "\u001b[?25hCollecting imgaug>=0.4.0\n",
      "  Downloading imgaug-0.4.0-py2.py3-none-any.whl (948 kB)\n",
      "\u001b[K     |████████████████████████████████| 948 kB 52.6 MB/s \n",
      "\u001b[?25hCollecting numba>=0.54\n",
      "  Downloading numba-0.55.1-1-cp37-cp37m-manylinux2014_x86_64.manylinux_2_17_x86_64.whl (3.3 MB)\n",
      "\u001b[K     |████████████████████████████████| 3.3 MB 39.8 MB/s \n",
      "\u001b[?25hCollecting matplotlib>=3.3\n",
      "  Downloading matplotlib-3.5.1-cp37-cp37m-manylinux_2_5_x86_64.manylinux1_x86_64.whl (11.2 MB)\n",
      "\u001b[K     |████████████████████████████████| 11.2 MB 37.1 MB/s \n",
      "\u001b[?25hRequirement already satisfied: networkx>=2.6 in /usr/local/lib/python3.7/dist-packages (from deeplabcut==2.2.0.6) (2.6.3)\n",
      "Requirement already satisfied: numpy>=1.18.5 in /usr/local/lib/python3.7/dist-packages (from deeplabcut==2.2.0.6) (1.21.5)\n",
      "Requirement already satisfied: pandas>=1.0.1 in /usr/local/lib/python3.7/dist-packages (from deeplabcut==2.2.0.6) (1.3.5)\n",
      "Collecting scikit-image<=0.18.1,>=0.17\n",
      "  Downloading scikit_image-0.18.1-cp37-cp37m-manylinux1_x86_64.whl (29.2 MB)\n",
      "\u001b[K     |████████████████████████████████| 29.2 MB 84.7 MB/s \n",
      "\u001b[?25hRequirement already satisfied: scikit-learn>=1.0 in /usr/local/lib/python3.7/dist-packages (from deeplabcut==2.2.0.6) (1.0.2)\n",
      "Requirement already satisfied: scipy>=1.4 in /usr/local/lib/python3.7/dist-packages (from deeplabcut==2.2.0.6) (1.4.1)\n",
      "Collecting statsmodels!=0.13.2,>=0.11\n",
      "  Downloading statsmodels-0.13.1-cp37-cp37m-manylinux_2_17_x86_64.manylinux2014_x86_64.whl (9.8 MB)\n",
      "\u001b[K     |████████████████████████████████| 9.8 MB 33.7 MB/s \n",
      "\u001b[?25hRequirement already satisfied: tables>=3.7.0 in /usr/local/lib/python3.7/dist-packages (from deeplabcut==2.2.0.6) (3.7.0)\n",
      "Requirement already satisfied: tensorflow>=2.0 in /usr/local/lib/python3.7/dist-packages (from deeplabcut==2.2.0.6) (2.8.0)\n",
      "Collecting tensorpack>=0.11\n",
      "  Downloading tensorpack-0.11-py2.py3-none-any.whl (296 kB)\n",
      "\u001b[K     |████████████████████████████████| 296 kB 43.5 MB/s \n",
      "\u001b[?25hCollecting tf_slim>=1.1.0\n",
      "  Downloading tf_slim-1.1.0-py2.py3-none-any.whl (352 kB)\n",
      "\u001b[K     |████████████████████████████████| 352 kB 35.5 MB/s \n",
      "\u001b[?25hRequirement already satisfied: tqdm in /usr/local/lib/python3.7/dist-packages (from deeplabcut==2.2.0.6) (4.63.0)\n",
      "Requirement already satisfied: pyyaml in /usr/local/lib/python3.7/dist-packages (from deeplabcut==2.2.0.6) (3.13)\n",
      "Requirement already satisfied: Pillow>=7.1 in /usr/local/lib/python3.7/dist-packages (from deeplabcut==2.2.0.6) (7.1.2)\n",
      "Requirement already satisfied: Shapely in /usr/local/lib/python3.7/dist-packages (from imgaug>=0.4.0->deeplabcut==2.2.0.6) (1.8.1.post1)\n",
      "Requirement already satisfied: imageio in /usr/local/lib/python3.7/dist-packages (from imgaug>=0.4.0->deeplabcut==2.2.0.6) (2.4.1)\n",
      "Requirement already satisfied: six in /usr/local/lib/python3.7/dist-packages (from imgaug>=0.4.0->deeplabcut==2.2.0.6) (1.15.0)\n",
      "Requirement already satisfied: opencv-python in /usr/local/lib/python3.7/dist-packages (from imgaug>=0.4.0->deeplabcut==2.2.0.6) (4.1.2.30)\n",
      "Collecting fonttools>=4.22.0\n",
      "  Downloading fonttools-4.31.1-py3-none-any.whl (899 kB)\n",
      "\u001b[K     |████████████████████████████████| 899 kB 44.6 MB/s \n",
      "\u001b[?25hRequirement already satisfied: kiwisolver>=1.0.1 in /usr/local/lib/python3.7/dist-packages (from matplotlib>=3.3->deeplabcut==2.2.0.6) (1.3.2)\n",
      "Requirement already satisfied: packaging>=20.0 in /usr/local/lib/python3.7/dist-packages (from matplotlib>=3.3->deeplabcut==2.2.0.6) (21.3)\n",
      "Requirement already satisfied: cycler>=0.10 in /usr/local/lib/python3.7/dist-packages (from matplotlib>=3.3->deeplabcut==2.2.0.6) (0.11.0)\n",
      "Requirement already satisfied: python-dateutil>=2.7 in /usr/local/lib/python3.7/dist-packages (from matplotlib>=3.3->deeplabcut==2.2.0.6) (2.8.2)\n",
      "Requirement already satisfied: pyparsing>=2.2.1 in /usr/local/lib/python3.7/dist-packages (from matplotlib>=3.3->deeplabcut==2.2.0.6) (3.0.7)\n",
      "Collecting llvmlite<0.39,>=0.38.0rc1\n",
      "  Downloading llvmlite-0.38.0-cp37-cp37m-manylinux_2_17_x86_64.manylinux2014_x86_64.whl (34.5 MB)\n",
      "\u001b[K     |████████████████████████████████| 34.5 MB 16 kB/s \n",
      "\u001b[?25hRequirement already satisfied: setuptools in /usr/local/lib/python3.7/dist-packages (from numba>=0.54->deeplabcut==2.2.0.6) (57.4.0)\n",
      "Requirement already satisfied: pytz>=2017.3 in /usr/local/lib/python3.7/dist-packages (from pandas>=1.0.1->deeplabcut==2.2.0.6) (2018.9)\n",
      "Collecting ruamel.yaml.clib>=0.2.6\n",
      "  Downloading ruamel.yaml.clib-0.2.6-cp37-cp37m-manylinux1_x86_64.whl (546 kB)\n",
      "\u001b[K     |████████████████████████████████| 546 kB 49.2 MB/s \n",
      "\u001b[?25hRequirement already satisfied: PyWavelets>=1.1.1 in /usr/local/lib/python3.7/dist-packages (from scikit-image<=0.18.1,>=0.17->deeplabcut==2.2.0.6) (1.2.0)\n",
      "Requirement already satisfied: tifffile>=2019.7.26 in /usr/local/lib/python3.7/dist-packages (from scikit-image<=0.18.1,>=0.17->deeplabcut==2.2.0.6) (2021.11.2)\n",
      "Requirement already satisfied: threadpoolctl>=2.0.0 in /usr/local/lib/python3.7/dist-packages (from scikit-learn>=1.0->deeplabcut==2.2.0.6) (3.1.0)\n",
      "Requirement already satisfied: joblib>=0.11 in /usr/local/lib/python3.7/dist-packages (from scikit-learn>=1.0->deeplabcut==2.2.0.6) (1.1.0)\n",
      "Requirement already satisfied: patsy>=0.5.2 in /usr/local/lib/python3.7/dist-packages (from statsmodels!=0.13.2,>=0.11->deeplabcut==2.2.0.6) (0.5.2)\n",
      "Requirement already satisfied: numexpr>=2.6.2 in /usr/local/lib/python3.7/dist-packages (from tables>=3.7.0->deeplabcut==2.2.0.6) (2.8.1)\n",
      "Requirement already satisfied: astunparse>=1.6.0 in /usr/local/lib/python3.7/dist-packages (from tensorflow>=2.0->deeplabcut==2.2.0.6) (1.6.3)\n",
      "Requirement already satisfied: protobuf>=3.9.2 in /usr/local/lib/python3.7/dist-packages (from tensorflow>=2.0->deeplabcut==2.2.0.6) (3.17.3)\n",
      "Requirement already satisfied: h5py>=2.9.0 in /usr/local/lib/python3.7/dist-packages (from tensorflow>=2.0->deeplabcut==2.2.0.6) (3.1.0)\n",
      "Requirement already satisfied: keras-preprocessing>=1.1.1 in /usr/local/lib/python3.7/dist-packages (from tensorflow>=2.0->deeplabcut==2.2.0.6) (1.1.2)\n",
      "Requirement already satisfied: wrapt>=1.11.0 in /usr/local/lib/python3.7/dist-packages (from tensorflow>=2.0->deeplabcut==2.2.0.6) (1.13.3)\n",
      "Requirement already satisfied: opt-einsum>=2.3.2 in /usr/local/lib/python3.7/dist-packages (from tensorflow>=2.0->deeplabcut==2.2.0.6) (3.3.0)\n",
      "Requirement already satisfied: libclang>=9.0.1 in /usr/local/lib/python3.7/dist-packages (from tensorflow>=2.0->deeplabcut==2.2.0.6) (13.0.0)\n",
      "Collecting tf-estimator-nightly==2.8.0.dev2021122109\n",
      "  Downloading tf_estimator_nightly-2.8.0.dev2021122109-py2.py3-none-any.whl (462 kB)\n",
      "\u001b[K     |████████████████████████████████| 462 kB 35.7 MB/s \n",
      "\u001b[?25hRequirement already satisfied: tensorflow-io-gcs-filesystem>=0.23.1 in /usr/local/lib/python3.7/dist-packages (from tensorflow>=2.0->deeplabcut==2.2.0.6) (0.24.0)\n",
      "Requirement already satisfied: grpcio<2.0,>=1.24.3 in /usr/local/lib/python3.7/dist-packages (from tensorflow>=2.0->deeplabcut==2.2.0.6) (1.44.0)\n",
      "Requirement already satisfied: gast>=0.2.1 in /usr/local/lib/python3.7/dist-packages (from tensorflow>=2.0->deeplabcut==2.2.0.6) (0.5.3)\n",
      "Requirement already satisfied: tensorboard<2.9,>=2.8 in /usr/local/lib/python3.7/dist-packages (from tensorflow>=2.0->deeplabcut==2.2.0.6) (2.8.0)\n",
      "Requirement already satisfied: absl-py>=0.4.0 in /usr/local/lib/python3.7/dist-packages (from tensorflow>=2.0->deeplabcut==2.2.0.6) (1.0.0)\n",
      "Requirement already satisfied: keras<2.9,>=2.8.0rc0 in /usr/local/lib/python3.7/dist-packages (from tensorflow>=2.0->deeplabcut==2.2.0.6) (2.8.0)\n",
      "Requirement already satisfied: typing-extensions>=3.6.6 in /usr/local/lib/python3.7/dist-packages (from tensorflow>=2.0->deeplabcut==2.2.0.6) (3.10.0.2)\n",
      "Requirement already satisfied: termcolor>=1.1.0 in /usr/local/lib/python3.7/dist-packages (from tensorflow>=2.0->deeplabcut==2.2.0.6) (1.1.0)\n",
      "Requirement already satisfied: flatbuffers>=1.12 in /usr/local/lib/python3.7/dist-packages (from tensorflow>=2.0->deeplabcut==2.2.0.6) (2.0)\n",
      "Requirement already satisfied: google-pasta>=0.1.1 in /usr/local/lib/python3.7/dist-packages (from tensorflow>=2.0->deeplabcut==2.2.0.6) (0.2.0)\n",
      "Requirement already satisfied: wheel<1.0,>=0.23.0 in /usr/local/lib/python3.7/dist-packages (from astunparse>=1.6.0->tensorflow>=2.0->deeplabcut==2.2.0.6) (0.37.1)\n",
      "Requirement already satisfied: cached-property in /usr/local/lib/python3.7/dist-packages (from h5py>=2.9.0->tensorflow>=2.0->deeplabcut==2.2.0.6) (1.5.2)\n",
      "Requirement already satisfied: tensorboard-plugin-wit>=1.6.0 in /usr/local/lib/python3.7/dist-packages (from tensorboard<2.9,>=2.8->tensorflow>=2.0->deeplabcut==2.2.0.6) (1.8.1)\n",
      "Requirement already satisfied: werkzeug>=0.11.15 in /usr/local/lib/python3.7/dist-packages (from tensorboard<2.9,>=2.8->tensorflow>=2.0->deeplabcut==2.2.0.6) (1.0.1)\n",
      "Requirement already satisfied: google-auth-oauthlib<0.5,>=0.4.1 in /usr/local/lib/python3.7/dist-packages (from tensorboard<2.9,>=2.8->tensorflow>=2.0->deeplabcut==2.2.0.6) (0.4.6)\n",
      "Requirement already satisfied: requests<3,>=2.21.0 in /usr/local/lib/python3.7/dist-packages (from tensorboard<2.9,>=2.8->tensorflow>=2.0->deeplabcut==2.2.0.6) (2.23.0)\n",
      "Requirement already satisfied: markdown>=2.6.8 in /usr/local/lib/python3.7/dist-packages (from tensorboard<2.9,>=2.8->tensorflow>=2.0->deeplabcut==2.2.0.6) (3.3.6)\n",
      "Requirement already satisfied: google-auth<3,>=1.6.3 in /usr/local/lib/python3.7/dist-packages (from tensorboard<2.9,>=2.8->tensorflow>=2.0->deeplabcut==2.2.0.6) (1.35.0)\n",
      "Requirement already satisfied: tensorboard-data-server<0.7.0,>=0.6.0 in /usr/local/lib/python3.7/dist-packages (from tensorboard<2.9,>=2.8->tensorflow>=2.0->deeplabcut==2.2.0.6) (0.6.1)\n",
      "Requirement already satisfied: rsa<5,>=3.1.4 in /usr/local/lib/python3.7/dist-packages (from google-auth<3,>=1.6.3->tensorboard<2.9,>=2.8->tensorflow>=2.0->deeplabcut==2.2.0.6) (4.8)\n",
      "Requirement already satisfied: pyasn1-modules>=0.2.1 in /usr/local/lib/python3.7/dist-packages (from google-auth<3,>=1.6.3->tensorboard<2.9,>=2.8->tensorflow>=2.0->deeplabcut==2.2.0.6) (0.2.8)\n",
      "Requirement already satisfied: cachetools<5.0,>=2.0.0 in /usr/local/lib/python3.7/dist-packages (from google-auth<3,>=1.6.3->tensorboard<2.9,>=2.8->tensorflow>=2.0->deeplabcut==2.2.0.6) (4.2.4)\n",
      "Requirement already satisfied: requests-oauthlib>=0.7.0 in /usr/local/lib/python3.7/dist-packages (from google-auth-oauthlib<0.5,>=0.4.1->tensorboard<2.9,>=2.8->tensorflow>=2.0->deeplabcut==2.2.0.6) (1.3.1)\n",
      "Requirement already satisfied: importlib-metadata>=4.4 in /usr/local/lib/python3.7/dist-packages (from markdown>=2.6.8->tensorboard<2.9,>=2.8->tensorflow>=2.0->deeplabcut==2.2.0.6) (4.11.2)\n",
      "Requirement already satisfied: zipp>=0.5 in /usr/local/lib/python3.7/dist-packages (from importlib-metadata>=4.4->markdown>=2.6.8->tensorboard<2.9,>=2.8->tensorflow>=2.0->deeplabcut==2.2.0.6) (3.7.0)\n",
      "Requirement already satisfied: pyasn1<0.5.0,>=0.4.6 in /usr/local/lib/python3.7/dist-packages (from pyasn1-modules>=0.2.1->google-auth<3,>=1.6.3->tensorboard<2.9,>=2.8->tensorflow>=2.0->deeplabcut==2.2.0.6) (0.4.8)\n",
      "Requirement already satisfied: chardet<4,>=3.0.2 in /usr/local/lib/python3.7/dist-packages (from requests<3,>=2.21.0->tensorboard<2.9,>=2.8->tensorflow>=2.0->deeplabcut==2.2.0.6) (3.0.4)\n",
      "Requirement already satisfied: certifi>=2017.4.17 in /usr/local/lib/python3.7/dist-packages (from requests<3,>=2.21.0->tensorboard<2.9,>=2.8->tensorflow>=2.0->deeplabcut==2.2.0.6) (2021.10.8)\n",
      "Requirement already satisfied: urllib3!=1.25.0,!=1.25.1,<1.26,>=1.21.1 in /usr/local/lib/python3.7/dist-packages (from requests<3,>=2.21.0->tensorboard<2.9,>=2.8->tensorflow>=2.0->deeplabcut==2.2.0.6) (1.24.3)\n",
      "Requirement already satisfied: idna<3,>=2.5 in /usr/local/lib/python3.7/dist-packages (from requests<3,>=2.21.0->tensorboard<2.9,>=2.8->tensorflow>=2.0->deeplabcut==2.2.0.6) (2.10)\n",
      "Requirement already satisfied: oauthlib>=3.0.0 in /usr/local/lib/python3.7/dist-packages (from requests-oauthlib>=0.7.0->google-auth-oauthlib<0.5,>=0.4.1->tensorboard<2.9,>=2.8->tensorflow>=2.0->deeplabcut==2.2.0.6) (3.2.0)\n",
      "Requirement already satisfied: tabulate>=0.7.7 in /usr/local/lib/python3.7/dist-packages (from tensorpack>=0.11->deeplabcut==2.2.0.6) (0.8.9)\n",
      "Requirement already satisfied: msgpack>=0.5.2 in /usr/local/lib/python3.7/dist-packages (from tensorpack>=0.11->deeplabcut==2.2.0.6) (1.0.3)\n",
      "Requirement already satisfied: pyzmq>=16 in /usr/local/lib/python3.7/dist-packages (from tensorpack>=0.11->deeplabcut==2.2.0.6) (22.3.0)\n",
      "Requirement already satisfied: psutil>=5 in /usr/local/lib/python3.7/dist-packages (from tensorpack>=0.11->deeplabcut==2.2.0.6) (5.4.8)\n",
      "Collecting msgpack-numpy>=0.4.4.2\n",
      "  Downloading msgpack_numpy-0.4.7.1-py2.py3-none-any.whl (6.7 kB)\n",
      "Requirement already satisfied: pexpect in /usr/local/lib/python3.7/dist-packages (from ipython->deeplabcut==2.2.0.6) (4.8.0)\n",
      "Requirement already satisfied: pygments in /usr/local/lib/python3.7/dist-packages (from ipython->deeplabcut==2.2.0.6) (2.6.1)\n",
      "Requirement already satisfied: simplegeneric>0.8 in /usr/local/lib/python3.7/dist-packages (from ipython->deeplabcut==2.2.0.6) (0.8.1)\n",
      "Requirement already satisfied: traitlets>=4.2 in /usr/local/lib/python3.7/dist-packages (from ipython->deeplabcut==2.2.0.6) (5.1.1)\n",
      "Requirement already satisfied: pickleshare in /usr/local/lib/python3.7/dist-packages (from ipython->deeplabcut==2.2.0.6) (0.7.5)\n",
      "Requirement already satisfied: decorator in /usr/local/lib/python3.7/dist-packages (from ipython->deeplabcut==2.2.0.6) (4.4.2)\n",
      "Requirement already satisfied: prompt-toolkit<2.0.0,>=1.0.4 in /usr/local/lib/python3.7/dist-packages (from ipython->deeplabcut==2.2.0.6) (1.0.18)\n",
      "Requirement already satisfied: wcwidth in /usr/local/lib/python3.7/dist-packages (from prompt-toolkit<2.0.0,>=1.0.4->ipython->deeplabcut==2.2.0.6) (0.2.5)\n",
      "Requirement already satisfied: ptyprocess>=0.5 in /usr/local/lib/python3.7/dist-packages (from pexpect->ipython->deeplabcut==2.2.0.6) (0.7.0)\n",
      "Building wheels for collected packages: deeplabcut, filterpy\n",
      "  Building wheel for deeplabcut (setup.py) ... \u001b[?25l\u001b[?25hdone\n",
      "  Created wheel for deeplabcut: filename=deeplabcut-2.2.0.6-py3-none-any.whl size=551616 sha256=17b054c1dd59251984aa2239e0f0fc4f2555c369b870ef021df7ac617995b252\n",
      "  Stored in directory: /tmp/pip-ephem-wheel-cache-7rwzd0to/wheels/3e/4f/19/808cc9b280763d1e887351df4c1fb5e4aed1853546dff2bfd5\n",
      "  Building wheel for filterpy (setup.py) ... \u001b[?25l\u001b[?25hdone\n",
      "  Created wheel for filterpy: filename=filterpy-1.4.5-py3-none-any.whl size=110474 sha256=fdd436d53eeafa5782f9860b947e056acebdffa80b14f8ea13ea5afde3ec1669\n",
      "  Stored in directory: /root/.cache/pip/wheels/ce/e0/ee/a2b3c5caab3418c1ccd8c4de573d4cbe13315d7e8b0a55fbc2\n",
      "Successfully built deeplabcut filterpy\n",
      "Installing collected packages: fonttools, matplotlib, tf-estimator-nightly, scikit-image, ruamel.yaml.clib, msgpack-numpy, llvmlite, tf-slim, tensorpack, statsmodels, ruamel.yaml, numba, imgaug, filterpy, deeplabcut\n",
      "  Attempting uninstall: matplotlib\n",
      "    Found existing installation: matplotlib 3.2.2\n",
      "    Uninstalling matplotlib-3.2.2:\n",
      "      Successfully uninstalled matplotlib-3.2.2\n",
      "  Attempting uninstall: scikit-image\n",
      "    Found existing installation: scikit-image 0.18.3\n",
      "    Uninstalling scikit-image-0.18.3:\n",
      "      Successfully uninstalled scikit-image-0.18.3\n",
      "  Attempting uninstall: llvmlite\n",
      "    Found existing installation: llvmlite 0.34.0\n",
      "    Uninstalling llvmlite-0.34.0:\n",
      "      Successfully uninstalled llvmlite-0.34.0\n",
      "  Attempting uninstall: statsmodels\n",
      "    Found existing installation: statsmodels 0.10.2\n",
      "    Uninstalling statsmodels-0.10.2:\n",
      "      Successfully uninstalled statsmodels-0.10.2\n",
      "  Attempting uninstall: numba\n",
      "    Found existing installation: numba 0.51.2\n",
      "    Uninstalling numba-0.51.2:\n",
      "      Successfully uninstalled numba-0.51.2\n",
      "  Attempting uninstall: imgaug\n",
      "    Found existing installation: imgaug 0.2.9\n",
      "    Uninstalling imgaug-0.2.9:\n",
      "      Successfully uninstalled imgaug-0.2.9\n",
      "\u001b[31mERROR: pip's dependency resolver does not currently take into account all the packages that are installed. This behaviour is the source of the following dependency conflicts.\n",
      "albumentations 0.1.12 requires imgaug<0.2.7,>=0.2.5, but you have imgaug 0.4.0 which is incompatible.\u001b[0m\n",
      "Successfully installed deeplabcut-2.2.0.6 filterpy-1.4.5 fonttools-4.31.1 imgaug-0.4.0 llvmlite-0.38.0 matplotlib-3.5.1 msgpack-numpy-0.4.7.1 numba-0.55.1 ruamel.yaml-0.17.21 ruamel.yaml.clib-0.2.6 scikit-image-0.18.1 statsmodels-0.13.1 tensorpack-0.11 tf-estimator-nightly-2.8.0.dev2021122109 tf-slim-1.1.0\n"
     ]
    },
    {
     "data": {
      "application/vnd.colab-display-data+json": {
       "pip_warning": {
        "packages": [
         "matplotlib",
         "mpl_toolkits"
        ]
       }
      }
     },
     "metadata": {},
     "output_type": "display_data"
    }
   ],
   "source": [
    "!pip install git+https://github.com/DeepLabCut/DeepLabCut.git"
   ]
  },
  {
   "cell_type": "code",
   "execution_count": 1,
   "metadata": {
    "colab": {
     "base_uri": "https://localhost:8080/"
    },
    "executionInfo": {
     "elapsed": 2365,
     "status": "ok",
     "timestamp": 1647926333911,
     "user": {
      "displayName": "Honghao Zhang",
      "photoUrl": "https://lh3.googleusercontent.com/a/default-user=s64",
      "userId": "02252697543396033058"
     },
     "user_tz": -660
    },
    "id": "rZ-v93kWpkn4",
    "outputId": "d3f865da-d40e-454d-e852-8afcc62a6187"
   },
   "outputs": [
    {
     "data": {
      "text/plain": [
       "'touchscreen_toolbox/DLC/config.yaml'"
      ]
     },
     "execution_count": 1,
     "metadata": {},
     "output_type": "execute_result"
    }
   ],
   "source": [
    "%load_ext autoreload\n",
    "%autoreload 2\n",
    "\n",
    "import os\n",
    "import shutil\n",
    "import numpy as np\n",
    "import pandas as pd\n",
    "import touchscreen_toolbox as tb\n",
    "\n",
    "# \n",
    "SAVE_STDOUT = sys.stdout  \n",
    "def reset_std(): sys.stdout = SAVE_STDOUT\n",
    "\n",
    "path_config_file = \"touchscreen_toolbox/DLC/config.yaml\"\n",
    "the_folder = 'tests'\n",
    "path_config_file"
   ]
  },
  {
   "cell_type": "code",
   "execution_count": 8,
   "metadata": {
    "id": "s1UhHYysKuy9"
   },
   "outputs": [
    {
     "name": "stdout",
     "output_type": "stream",
     "text": [
      "Processing folder tests\\20220101\n",
      "Removing existing DLC folder\n",
      "Processing tests\\20220101\\2_clip.mp4\n",
      "Analyzing tests\\20220101\\2_clip.mp4\n"
     ]
    },
    {
     "name": "stderr",
     "output_type": "stream",
     "text": [
      "100%|████████████████████████████████████████████████████████████████████████████████| 503/503 [00:19<00:00, 25.73it/s]\n",
      "503it [00:01, 411.50it/s]\n",
      "503it [00:00, 1435.56it/s]\n",
      "100%|███████████████████████████████████████████████████████████████████████████████████| 2/2 [00:00<00:00, 903.17it/s]\n"
     ]
    },
    {
     "name": "stdout",
     "output_type": "stream",
     "text": [
      "renamed csv\n",
      "Reorganized files\n",
      "------------\n",
      "Processing tests\\20220101\\6_clip.mp4\n",
      "Analyzing tests\\20220101\\6_clip.mp4\n"
     ]
    },
    {
     "name": "stderr",
     "output_type": "stream",
     "text": [
      "100%|████████████████████████████████████████████████████████████████████████████████| 503/503 [00:19<00:00, 25.57it/s]\n",
      "503it [00:01, 479.98it/s]\n",
      "503it [00:00, 1444.98it/s]\n",
      "100%|███████████████████████████████████████████████████████████████████████████████████| 2/2 [00:00<00:00, 999.12it/s]\n"
     ]
    },
    {
     "name": "stdout",
     "output_type": "stream",
     "text": [
      "renamed csv\n",
      "Reorganized files\n",
      "------------\n",
      "Processing tests\\20220101\\7_clip.mp4\n",
      "Increasing brightness for 'tests\\20220101\\7_clip.mp4'\n",
      "Analyzing tests\\20220101\\7_clip_bright.mp4\n"
     ]
    },
    {
     "name": "stderr",
     "output_type": "stream",
     "text": [
      "100%|████████████████████████████████████████████████████████████████████████████████| 503/503 [00:20<00:00, 24.56it/s]\n",
      "503it [00:01, 417.18it/s]\n",
      "503it [00:00, 1396.11it/s]\n",
      "100%|██████████████████████████████████████████████████████████████████████████████████| 4/4 [00:00<00:00, 3988.88it/s]\n"
     ]
    },
    {
     "name": "stdout",
     "output_type": "stream",
     "text": [
      "renamed csv\n",
      "Reorganized files\n",
      "------------\n",
      "Statistics saved\n",
      "Processing folder tests\\20220102\n",
      "Processing tests\\20220102\\4_clip.mp4\n",
      "Analyzing tests\\20220102\\4_clip.mp4\n"
     ]
    },
    {
     "name": "stderr",
     "output_type": "stream",
     "text": [
      "C:\\Users\\25791\\AppData\\Local\\Programs\\Python\\Python38\\lib\\site-packages\\tensorflow\\python\\keras\\engine\\base_layer_v1.py:1694: UserWarning: `layer.apply` is deprecated and will be removed in a future version. Please use `layer.__call__` method instead.\n",
      "  warnings.warn('`layer.apply` is deprecated and '\n",
      "100%|████████████████████████████████████████████████████████████████████████████████| 503/503 [00:20<00:00, 24.19it/s]\n",
      "503it [00:00, 534.56it/s]\n",
      "503it [00:00, 1557.52it/s]\n",
      "100%|██████████████████████████████████████████████████████████████████████████████████| 2/2 [00:00<00:00, 2054.02it/s]\n"
     ]
    },
    {
     "name": "stdout",
     "output_type": "stream",
     "text": [
      "renamed csv\n",
      "Reorganized files\n",
      "------------\n",
      "Statistics saved\n"
     ]
    }
   ],
   "source": [
    "for (folder_path, _, files) in list(os.walk(the_folder)):\n",
    "\n",
    "    if files:\n",
    "        \n",
    "        # jump to next folder if no valid videos\n",
    "        videos = [f for f in files if f.endswith('.mp4') and \n",
    "                  (not tb.utils.is_preprocess(f))]\n",
    "        if not videos:\n",
    "            continue\n",
    "        \n",
    "        print(f\"Processing folder {folder_path}...\\n\")\n",
    "\n",
    "        # create folder for dlc products\n",
    "        dlc_folder = os.path.join(folder_path, 'DLC')\n",
    "        tb.utils.mk_dir(dlc_folder)\n",
    "\n",
    "        # analyze each video\n",
    "        for video in videos:\n",
    "            video = os.path.join(folder_path, video)\n",
    "\n",
    "            # preprocess if needed\n",
    "            new_video = tb.preprocess(video)\n",
    "            \n",
    "            # analyze\n",
    "            tb.analyze(new_video)\n",
    "\n",
    "            print(\"-----------------------------\\n\")\n",
    "\n",
    "        # postprocess\n",
    "        tb.postprocess(folder_path)"
   ]
  },
  {
   "cell_type": "code",
   "execution_count": null,
   "metadata": {
    "id": "4NnOz3n5FrMe"
   },
   "outputs": [],
   "source": []
  }
 ],
 "metadata": {
  "colab": {
   "authorship_tag": "ABX9TyPZBi3pikP/nkSIFzNpRCqT",
   "collapsed_sections": [],
   "name": "main.ipynb",
   "provenance": []
  },
  "kernelspec": {
   "display_name": "Python 3 (ipykernel)",
   "language": "python",
   "name": "python3"
  },
  "language_info": {
   "codemirror_mode": {
    "name": "ipython",
    "version": 3
   },
   "file_extension": ".py",
   "mimetype": "text/x-python",
   "name": "python",
   "nbconvert_exporter": "python",
   "pygments_lexer": "ipython3",
   "version": "3.8.10"
  }
 },
 "nbformat": 4,
 "nbformat_minor": 4
}
