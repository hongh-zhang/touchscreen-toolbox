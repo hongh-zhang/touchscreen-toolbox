{
 "cells": [
  {
   "cell_type": "code",
   "execution_count": 1,
   "metadata": {
    "id": "4NnOz3n5FrMe"
   },
   "outputs": [],
   "source": [
    "%load_ext autoreload \n",
    "%autoreload 2\n",
    "\n",
    "import os\n",
    "import sys\n",
    "import shutil\n",
    "import numpy as np\n",
    "import pandas as pd\n",
    "import touchscreen_toolbox as tb\n",
    "from touchscreen_toolbox.utils import *"
   ]
  },
  {
   "cell_type": "code",
   "execution_count": 46,
   "metadata": {},
   "outputs": [],
   "source": [
    "def initialize(folder_path):\n",
    "    \"\"\"\n",
    "    Check progress of a folder,\n",
    "    initialize folder/files if the folder is unprocessed,\n",
    "    otherwise return a to-do list for higher level functions.\n",
    "    \"\"\"\n",
    "    \n",
    "    videos = [f for f in os.listdir(folder_path) if f.endswith(\".mp4\")]\n",
    "    if not videos:\n",
    "        return []\n",
    "    \n",
    "    dlc_folder = os.path.join(folder_path, DLC_FOLDER)\n",
    "    rst_folder = os.path.join(folder_path, RST_FOLDER)\n",
    "    stats_path = os.path.join(rst_folder, STATS_NAME)\n",
    "    \n",
    "    # no previous progress\n",
    "    if not os.path.exists(stats_path):\n",
    "        mk_dir(dlc_folder)\n",
    "        mk_dir(rst_folder)\n",
    "        STATS_TEMPL.to_csv(stats_path, index=False)\n",
    "        print(f\"Initialized under {folder_path}\")\n",
    "        return videos\n",
    "    \n",
    "    # read progress and exclude processed videos\n",
    "    else:\n",
    "        analyzed = pd.read_csv(stats_path).iloc[2:, 0].values\n",
    "        if not os.path.exists(dlc_folder):\n",
    "            mk_dir(dlc_folder)\n",
    "        return [v for v in videos if v not in analyzed]"
   ]
  },
  {
   "cell_type": "code",
   "execution_count": 39,
   "metadata": {},
   "outputs": [],
   "source": [
    "def analyze_video(video_path):\n",
    "    \n",
    "    video_name  = os.path.basename(video_path)\n",
    "    folder_path = os.path.dirname(video_path)\n",
    "    curr_files  = os.listdir(folder_path)\n",
    "    \n",
    "    # preprocess\n",
    "    # get new video name and a list of process applied (if any)\n",
    "    new_video, proc_ls = tb.preprocess.preprocess(video_path)\n",
    "\n",
    "    # analyze\n",
    "    tb.dlc.dlc_analyze(DLC_CONFIG, new_video)\n",
    "    new_files = [f for f in os.listdir(folder_path) if f not in curr_files]\n",
    "    csv = os.path.join(folder_path, [f for f in new_files if f.endswith(\".csv\")][0])\n",
    "    \n",
    "    # postprocess\n",
    "    # record into stats\n",
    "    data  = tb.utils.read_dlc_csv(csv)\n",
    "    \n",
    "    stats_path = os.path.join(folder_path, RST_FOLDER, STATS_NAME)\n",
    "    if os.path.exists(stats_path):\n",
    "        stats = pd.read_csv(stats_path)\n",
    "        stats.loc[len(data)] = ([video_name] + [str(proc_ls)] + tb.postprocess.statistics(data))\n",
    "        stats.to_csv(stats_path, index=False, header=False)\n",
    "    \n",
    "    # standardize\n",
    "    data.drop(CCOLS, axis=1)\n",
    "    tb.postprocess.standardize(data)\n",
    "    tb.postprocess.fillna(data)\n",
    "    data.to_csv(os.path.join(folder_path, RST_FOLDER, video_name[:-4] + '.csv'))\n",
    "    \n",
    "    # cleanup if folder exists\n",
    "    dlc_folder = os.path.join(folder_path, DLC_FOLDER)\n",
    "    if os.path.exists(dlc_folder):\n",
    "        for f in new_files:\n",
    "            file_path = os.path.join(folder_path, f)\n",
    "            new_path = os.path.join(dlc_folder, f)\n",
    "            os.rename(file_path, new_path)"
   ]
  },
  {
   "cell_type": "code",
   "execution_count": 40,
   "metadata": {},
   "outputs": [
    {
     "name": "stderr",
     "output_type": "stream",
     "text": [
      "C:\\Users\\25791\\AppData\\Local\\Programs\\Python\\Python38\\lib\\site-packages\\tensorflow\\python\\keras\\engine\\base_layer_v1.py:1694: UserWarning: `layer.apply` is deprecated and will be removed in a future version. Please use `layer.__call__` method instead.\n",
      "  warnings.warn('`layer.apply` is deprecated and '\n",
      "100%|████████████████████████████████████████████████████████████████████████████████| 503/503 [00:21<00:00, 23.81it/s]\n",
      "503it [00:00, 530.05it/s]\n",
      "503it [00:00, 1499.01it/s]\n",
      "100%|████████████████████████████████████████████████████████████████████████████████████████████| 2/2 [00:00<?, ?it/s]\n"
     ]
    }
   ],
   "source": [
    "analyze_video(\"tests/20220101/2_clip.mp4\")"
   ]
  },
  {
   "cell_type": "code",
   "execution_count": 41,
   "metadata": {},
   "outputs": [],
   "source": [
    "def analyze_folder(folder_path):\n",
    "    \"\"\"Analyze individual folder\"\"\"\n",
    "    \n",
    "    to_analyze = initialize(folder_path)\n",
    "    \n",
    "    for video in to_analyze:\n",
    "        video_path = os.path.join(folder_path, video)\n",
    "        analyze_video(video_path)\n",
    "\n",
    "def analyze_folders(root, ):\n",
    "    \"\"\"Analyze the folder & all sub-folders\"\"\"\n",
    "    \n",
    "    for (folder_path, _, files) in list(os.walk(root)):\n",
    "        analyze_folder(folder_path)"
   ]
  },
  {
   "cell_type": "code",
   "execution_count": 47,
   "metadata": {},
   "outputs": [
    {
     "name": "stdout",
     "output_type": "stream",
     "text": [
      "Initialized files under tests\\20220101\n"
     ]
    },
    {
     "name": "stderr",
     "output_type": "stream",
     "text": [
      "100%|████████████████████████████████████████████████████████████████████████████████| 503/503 [00:20<00:00, 24.10it/s]\n",
      "503it [00:00, 540.34it/s]\n",
      "503it [00:00, 1477.13it/s]\n",
      "100%|████████████████████████████████████████████████████████████████████████████████████████████| 2/2 [00:00<?, ?it/s]\n",
      "C:\\Users\\25791\\AppData\\Local\\Programs\\Python\\Python38\\lib\\site-packages\\tensorflow\\python\\keras\\engine\\base_layer_v1.py:1694: UserWarning: `layer.apply` is deprecated and will be removed in a future version. Please use `layer.__call__` method instead.\n",
      "  warnings.warn('`layer.apply` is deprecated and '\n",
      "100%|████████████████████████████████████████████████████████████████████████████████| 503/503 [00:20<00:00, 24.31it/s]\n",
      "503it [00:00, 553.61it/s]\n",
      "503it [00:00, 1429.41it/s]\n",
      "100%|██████████████████████████████████████████████████████████████████████████████████| 2/2 [00:00<00:00, 1998.24it/s]\n"
     ]
    },
    {
     "name": "stdout",
     "output_type": "stream",
     "text": [
      "Increasing brightness for 'tests\\20220101\\7_clip.mp4'\n"
     ]
    },
    {
     "name": "stderr",
     "output_type": "stream",
     "text": [
      "C:\\Users\\25791\\AppData\\Local\\Programs\\Python\\Python38\\lib\\site-packages\\tensorflow\\python\\keras\\engine\\base_layer_v1.py:1694: UserWarning: `layer.apply` is deprecated and will be removed in a future version. Please use `layer.__call__` method instead.\n",
      "  warnings.warn('`layer.apply` is deprecated and '\n",
      "100%|████████████████████████████████████████████████████████████████████████████████| 503/503 [00:20<00:00, 24.80it/s]\n",
      "503it [00:00, 541.42it/s]\n",
      "503it [00:00, 1527.02it/s]\n",
      "100%|██████████████████████████████████████████████████████████████████████████████████| 4/4 [00:00<00:00, 1997.05it/s]\n"
     ]
    },
    {
     "name": "stdout",
     "output_type": "stream",
     "text": [
      "Initialized files under tests\\20220102\n"
     ]
    },
    {
     "name": "stderr",
     "output_type": "stream",
     "text": [
      "C:\\Users\\25791\\AppData\\Local\\Programs\\Python\\Python38\\lib\\site-packages\\tensorflow\\python\\keras\\engine\\base_layer_v1.py:1694: UserWarning: `layer.apply` is deprecated and will be removed in a future version. Please use `layer.__call__` method instead.\n",
      "  warnings.warn('`layer.apply` is deprecated and '\n",
      "100%|████████████████████████████████████████████████████████████████████████████████| 503/503 [00:21<00:00, 23.58it/s]\n",
      "503it [00:00, 531.58it/s]\n",
      "503it [00:00, 1506.44it/s]\n",
      "100%|██████████████████████████████████████████████████████████████████████████████████| 2/2 [00:00<00:00, 2003.01it/s]\n"
     ]
    }
   ],
   "source": [
    "analyze_folders('tests')"
   ]
  },
  {
   "cell_type": "code",
   "execution_count": null,
   "metadata": {},
   "outputs": [],
   "source": []
  }
 ],
 "metadata": {
  "colab": {
   "authorship_tag": "ABX9TyPZBi3pikP/nkSIFzNpRCqT",
   "collapsed_sections": [],
   "name": "main.ipynb",
   "provenance": []
  },
  "kernelspec": {
   "display_name": "Python 3 (ipykernel)",
   "language": "python",
   "name": "python3"
  },
  "language_info": {
   "codemirror_mode": {
    "name": "ipython",
    "version": 3
   },
   "file_extension": ".py",
   "mimetype": "text/x-python",
   "name": "python",
   "nbconvert_exporter": "python",
   "pygments_lexer": "ipython3",
   "version": "3.8.10"
  }
 },
 "nbformat": 4,
 "nbformat_minor": 4
}
