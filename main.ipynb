{
 "cells": [
  {
   "cell_type": "code",
   "execution_count": 1,
   "id": "e7d70c34-2919-47f8-af49-f82d5f4e4c4f",
   "metadata": {},
   "outputs": [],
   "source": [
    "%load_ext autoreload\n",
    "%autoreload 2\n",
    "\n",
    "import os\n",
    "import shutil\n",
    "import numpy as np\n",
    "import pandas as pd\n",
    "\n",
    "import touchscreen_toolbox as tb\n",
    "\n",
    "FOLDER = 'tests'\n",
    "DLC_CFG = 'touchscreen_toolbox/DLC/config.yaml'"
   ]
  },
  {
   "cell_type": "code",
   "execution_count": 8,
   "id": "3b31a8c0-e75e-463a-a54a-36666bccf025",
   "metadata": {},
   "outputs": [
    {
     "name": "stdout",
     "output_type": "stream",
     "text": [
      "tests\\20220101\\2_clip.mp4\n",
      "\n",
      "tests\\20220101\\6_clip.mp4\n",
      "\n",
      "tests\\20220101\\7_clip.mp4\n",
      "Increasing brightness for 'tests\\20220101\\7_clip.mp4'\n",
      "Preprocessed video 'tests\\20220101\\7_clip_bright.mp4' exists, removing it\n",
      "\n",
      "tests\\20220102\\4_clip.mp4\n",
      "\n"
     ]
    }
   ],
   "source": [
    "for path, sub, files in list(os.walk(FOLDER)):\n",
    "    \n",
    "    if files:\n",
    "        videos = [f for f in files if f.endswith('.mp4')]  # all videos\n",
    "        videos = [f for f in videos if not tb.preprocess.is_preprocess(f)]  # all valid videos\n",
    "        for v in videos:\n",
    "            v = os.path.join(path, v)\n",
    "            print(v)\n",
    "            tb.preprocess.preprocess(v)\n",
    "            print('')\n",
    "            \n",
    "    "
   ]
  },
  {
   "cell_type": "code",
   "execution_count": null,
   "id": "787d7fec-bc83-452b-b09e-289ac88f5e06",
   "metadata": {},
   "outputs": [],
   "source": []
  }
 ],
 "metadata": {
  "kernelspec": {
   "display_name": "Python 3 (ipykernel)",
   "language": "python",
   "name": "python3"
  },
  "language_info": {
   "codemirror_mode": {
    "name": "ipython",
    "version": 3
   },
   "file_extension": ".py",
   "mimetype": "text/x-python",
   "name": "python",
   "nbconvert_exporter": "python",
   "pygments_lexer": "ipython3",
   "version": "3.8.10"
  }
 },
 "nbformat": 4,
 "nbformat_minor": 5
}
