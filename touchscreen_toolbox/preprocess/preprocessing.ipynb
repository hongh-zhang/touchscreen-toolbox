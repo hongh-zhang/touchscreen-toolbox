{
 "cells": [
  {
   "cell_type": "code",
   "execution_count": 11,
   "id": "08c3a924-10c2-434e-ac44-4603dc3529dd",
   "metadata": {},
   "outputs": [
    {
     "name": "stdout",
     "output_type": "stream",
     "text": [
      "The autoreload extension is already loaded. To reload it, use:\n",
      "  %reload_ext autoreload\n"
     ]
    }
   ],
   "source": [
    "%load_ext autoreload\n",
    "%autoreload 2\n",
    "\n",
    "from preprocess import *\n",
    "import os\n",
    "import shutil"
   ]
  },
  {
   "cell_type": "code",
   "execution_count": 16,
   "id": "0186d01f-c68e-44a1-9ba7-461a9474c54d",
   "metadata": {},
   "outputs": [
    {
     "data": {
      "text/plain": [
       "'7_clip_bright.mp4'"
      ]
     },
     "execution_count": 16,
     "metadata": {},
     "output_type": "execute_result"
    }
   ],
   "source": [
    "preprocess('7_clip.mp4')"
   ]
  },
  {
   "cell_type": "code",
   "execution_count": null,
   "id": "c2dfca9f-5d30-4017-af47-1260326e88c1",
   "metadata": {},
   "outputs": [],
   "source": []
  }
 ],
 "metadata": {
  "kernelspec": {
   "display_name": "Python 3 (ipykernel)",
   "language": "python",
   "name": "python3"
  },
  "language_info": {
   "codemirror_mode": {
    "name": "ipython",
    "version": 3
   },
   "file_extension": ".py",
   "mimetype": "text/x-python",
   "name": "python",
   "nbconvert_exporter": "python",
   "pygments_lexer": "ipython3",
   "version": "3.8.10"
  }
 },
 "nbformat": 4,
 "nbformat_minor": 5
}
